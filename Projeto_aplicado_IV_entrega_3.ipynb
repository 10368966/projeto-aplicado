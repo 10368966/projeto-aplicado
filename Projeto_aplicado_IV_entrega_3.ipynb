{
  "cells": [
    {
      "cell_type": "markdown",
      "metadata": {
        "id": "80CF3Eq9EXDW"
      },
      "source": [
        "  <img src=\"https://github.com/Rogerio-mack/GCF/raw/main/GCF_files/Mackenzie.jpg\" width=\"25%\" align=\"right\"/>\n",
        "\n",
        "  # **PROJETO APLICADO IV - Entrega 3**\n",
        "  \n",
        "  <br>\n",
        "  <br>\n",
        "  \n"
      ]
    },
    {
      "cell_type": "markdown",
      "metadata": {
        "id": "40b90843"
      },
      "source": [
        "## **Explorando o Impacto das Taxas de Inflação e SELIC no Mercado de Ações Brasileiro: Previsões e Perspectivas para o Crescimento Econômico Sustentável**\n",
        "---"
      ]
    },
    {
      "cell_type": "code",
      "execution_count": null,
      "metadata": {
        "cellView": "form",
        "id": "rYx9D4GZA5o9"
      },
      "outputs": [],
      "source": [
        "#@title **Identificação do Grupo e Opção do Projeto**\n",
        "\n",
        "#@markdown Integrantes do Grupo, nome completo em ordem alfabética (*informe: \\<nome\\>, \\<matrícula\\>*)\n",
        "Aluno1 = 'Carlos Suetiro Kaeriyama, 10368966' #@param {type:\"string\"}\n",
        "Aluno2 = 'Gabriela Germana da Silva, 10369542' #@param {type:\"string\"}\n",
        "Aluno3 = 'Jonathan Henrique Gomes da Paz Facchinetti, 10369278' #@param {type:\"string\"}\n",
        "Aluno4 = 'Vanessa Teofilo Ribeiro Dultra, 10370294' #@param {type:\"string\"}\n",
        "Aluno5 = 'None' #@param {type:\"string\"}\n",
        "\n",
        "\n",
        "\n"
      ]
    },
    {
      "cell_type": "markdown",
      "metadata": {
        "id": "JlCIc2YooBW7"
      },
      "source": [
        "# **Resumo**\n",
        "\n",
        "O Ibovespa é o principal índice de referência do mercado de ações no Brasil. Ele é composto por uma carteira teórica das ações mais negociadas e representativas da Bolsa de Valores de São Paulo (B3).O Ibovespa é calculado em tempo real durante o horário de funcionamento do mercado de ações, levando em consideração a capitalização de mercado das empresas listadas. Isso significa que as empresas com maior valor de mercado têm mais peso no índice. Investidores, analistas e gestores de fundos usam o Ibovespa como uma referência para avaliar o desempenho geral do mercado de ações brasileiro. Se o Ibovespa está subindo, isso geralmente indica otimismo e confiança dos investidores na economia brasileira e nas empresas listadas. Por outro lado, se o índice está caindo, pode indicar preocupações ou incertezas sobre a economia ou setores específicos. O desempenho do Ibovespa é influenciado por uma variedade de fatores, incluindo notícias econômicas, políticas, eventos internacionais, taxas de juros, inflação e desempenho das empresas listadas. Como resultado, ele pode ser volátil e sujeito a flutuações diárias significativas. Este projeto busca entender como a taxa de inflação e a taxa básica de juros (SELIC) afetam o mercado de ações brasileiro, representado pelo índice Ibovespa. Para alcançar esse objetivo, o projeto empregará técnicas analíticas avançadas, como diferenciação para tornar as séries temporais estacionárias, análise exploratória, correlação entre variáveis e decomposição das séries. Além disso, serão aplicados modelos estatísticos robustos, incluindo ARIMA, SARIMA, Regressão Linear e RandomForestRegressor, para prever tendências futuras no mercado de ações. A eficácia desses modelos será minuciosamente avaliada por meio de métricas de desempenho, como Erro Quadrático Médio (MSE), Erro Médio Absoluto (MAE) e Raiz do Erro Quadrático Médio (RMSE), garantindo uma análise precisa e confiável das previsões. "
      ]
    },
    {
      "cell_type": "markdown",
      "metadata": {
        "id": "A4-f8AtfKAn2"
      },
      "source": [
        "# **Fonte dos Dados**\n",
        "\n",
        "Os dados utilizados são a evolução mensal do índice IBOVESPA, fornecidos pela Bolsa de Valores de SP (B3) (https://www.b3.com.br/pt_br/market-data-e-indices/indices/indices-amplos/indice-ibovespa-ibovespa-estatisticas-historicas.htm), a taxa SELIC é fornecida pelo Banco Central do Brasil (https://www3.bcb.gov.br/sgspub/consultarvalores/consultarValoresSeries.do?method=getPagina) enquanto a taxa de inflação IPCA é disponibilizada pelo IBGE (https://www.ibge.gov.br/estatisticas/economicas/precos-e-custos/9256-indice-nacional-de-precos-ao-consumidor-amplo.html?=&t=series-historicas). Os dados são formados pelo mês e seus respectivos valores. O IBOVESPA é o principal indicador do mercado de ações brasileiro, refletindo o desempenho das ações negociadas na Bolsa de Valores de São Paulo (B3). Por sua vez, a SELIC desempenha o papel de taxa básica de juros, servindo como referência para todas as demais taxas de juros no país. Enquanto isso, o Índice Nacional de Preços ao Consumidor Amplo (IPCA), calculado pelo IBGE, destaca-se como um dos principais índices de inflação do Brasil, com ampla utilização em análises econômicas e tomadas de decisão.\n"
      ]
    },
    {
      "cell_type": "markdown",
      "metadata": {
        "id": "jx4u5FY-6UEp"
      },
      "source": [
        "# **Introdução**\n",
        "\n",
        "Antes da criação da Bovespa em 1968, o cenário do mercado de ações no Brasil era fragmentado, com várias bolsas de valores regionais pelo país, cada uma com suas próprias regras. As principais eram as bolsas de São Paulo, Rio de Janeiro e Porto Alegre. A negociação de ações era menos frequente e com menor volume, o que tornava o mercado menos líquido e mais volátil. O acesso era restrito, especialmente para pequenos investidores, e as informações sobre empresas e o mercado eram menos acessíveis, dificultando a tomada de decisões. A regulamentação era menos rigorosa, o que aumentava a insegurança jurídica e o risco de fraudes. Em 1968, o governo lançou o Plano Trienal, buscando modernizar a economia. A criação da Bovespa foi parte desse plano, visando democratizar o acesso ao capital e estimular o investimento privado. \n",
        "\n",
        "Na década de 70, o Ibovespa experimentou um crescimento acelerado, impulsionado pelo Plano Nacional de Desenvolvimento (PND) e pelo Milagre Econômico. No entanto, a crise do petróleo em 1973 e a instabilidade política resultaram em quedas significativas no final da década. Nos anos 80, o índice enfrentou grande volatilidade devido à crise da dívida externa e à hiperinflação. As recuperações temporárias foram observadas com os Planos Cruzado e Bresser. Na década de 90, com a implementação do Plano Real, o Ibovespa atingiu níveis recordes, impulsionado pela estabilização da economia brasileira. No novo milênio, crises como a bolha da internet em 2001 e a crise financeira global de 2008 impactaram o índice. Em 2008, o Ibovespa perdeu mais de 30% de seu valor. Após a crise de 2008, o Ibovespa se recuperou gradualmente, impulsionado pelo crescimento econômico e pelo aumento do investimento estrangeiro. A pandemia da COVID-19 em 2020 causou instabilidade nos mercados globais, com o Ibovespa sofrendo quedas expressivas, mas recuperando-se posteriormente com medidas de estímulo governamental e expectativas de retomada econômica.\n",
        "\n",
        "O projeto utilizará uma variedade de técnicas analíticas avançadas para a análise do mercado de ações. Isso inclui a utilização de métodos como diferenciação para estacionarizar séries temporais, análise exploratória de dados, identificação de correlações entre variáveis e decomposição das séries temporais. Além disso, serão aplicados modelos estatísticos robustos, como ARIMA, SARIMA, Regressão Linear e RandomForestRegressor, com o objetivo de prever as tendências futuras do mercado. Para garantir a confiabilidade e precisão das previsões, a eficácia desses modelos será avaliada utilizando métricas de desempenho amplamente reconhecidas, como MSE (Erro Quadrático Médio), MAE (Erro Absoluto Médio) e RMSE (Raiz do Erro Quadrático Médio). Essas medidas garantirão que as análises realizadas sejam baseadas em dados sólidos e produzam informações confiáveis para tomadas de decisão informadas.\n",
        "\n",
        "Ao compreender essa relação, é possível tomar medidas preventivas e corretivas para lidar com mudanças repentinas no mercado financeiro. Isso inclui alocar recursos de forma eficiente para responder a essas mudanças, comunicar-se de forma proativa com investidores durante períodos de volatilidade e melhorar a infraestrutura para lidar com cenários econômicos adversos\n",
        ". O projeto está relacionado ao ODS 8 (Trabalho Decente e Crescimento Econômico), que visa garantir que o crescimento econômico seja acompanhado pela criação de empregos dignos e pelo respeito aos direitos humanos e trabalhistas. A análise do mercado de ações brasileiro e a influência das taxas de inflação e da Selic têm como objetivo promover um entendimento mais profundo do crescimento econômico e das condições de trabalho no país.\n"
      ]
    },
    {
      "cell_type": "markdown",
      "metadata": {
        "id": "5t_X-um-7n1T"
      },
      "source": [
        "# **Referencial Teórico**\n",
        "\n",
        "Quando nos deparamos com problemas complexos é comum buscar inspiração em trabalhos correlacionados. Esses estudos não apenas nos fornecem uma base sólida de conhecimento, mas também nos oferecem diferentes abordagens para resolver problemas semelhantes. Nesta discussão, exploraremos alternativas de solução empregadas em problemas relacionados, destacando suas vantagens e limitações. Para uma compreensão mais completa, iremos definir resumidamente os principais conceitos envolvidos em cada solução.\n",
        "\n",
        "Uma referência referente a Regressão Linear é o livro \"Introdução à Análise de Regressão Linear\" de Montgomery, D. C., Peck, E. A., & Vining, G. G. (2015), se apresentou como um guia abrangente e aprofundado para os conceitos e técnicas fundamentais da regressão linear. A obra oferece uma jornada desde os princípios básicos da regressão linear simples até modelos mais sofisticados, como a regressão múltipla e modelos não lineares. O livro não apenas explora os aspectos teóricos da regressão linear, mas também fornece orientações práticas sobre como aplicar esses conceitos em análises reais. Ele aborda questões importantes, como a seleção de variáveis, a interpretação dos resultados e a validação dos modelos. \n",
        "\n",
        "\"Applied Predictive Modeling\" de Max Kuhn e Kjell Johnson, lançado em 2013, é um livro prático e detalhado que aborda técnicas essenciais de modelagem preditiva. O livro começa com conceitos fundamentais e avança para tópicos mais avançados. Ele cobre o pré-processamento de dados, explorando métodos de limpeza e transformação de dados, seguido pela explicação de uma variedade de modelos de regressão e classificação, como regressão linear, árvores de decisão e redes neurais. Métricas de avaliação de modelos, como MSE e RMSE, são discutidas em detalhes, juntamente com técnicas de validação cruzada e bootstrap. O livro é enriquecido com estudos de caso práticos de várias áreas, demonstrando a aplicação real das técnicas discutidas. É altamente elogiado por sua abordagem clara e aplicada à modelagem preditiva, sendo uma referência valiosa. \n",
        "\n",
        "O trabalho de Flademir Albuquerque, intitulado \"Modelo Preditivo com base na IBOVESPA (bolsa de valores)\", publicado em 25 de janeiro de 2024 no Medium, apresenta um modelo preditivo para o índice IBOVESPA da Bolsa de Valores de São Paulo, utilizando a série histórica de cotações diárias do índice entre os anos de 2002 e 2023. A pesquisa utiliza a metodologia de séries temporais, especificamente modelos ARIMA (Autoregressive Integrated Moving Average), para modelar o comportamento da IBOVESPA. Os modelos ARIMA são modelos estatísticos que capturam a relação entre os valores passados ​​de uma série temporal e seus valores futuros. No caso da IBOVESPA, os modelos ARIMA consideram a sazonalidade do índice, como a variação dos preços ao longo do ano e do dia. A pesquisa apresenta os resultados da aplicação dos modelos ARIMA à série histórica da IBOVESPA. Os autores identificaram que modelos ARIMA com sazonalidade são mais adequados para prever os movimentos do índice do que modelos ARIMA sem sazonalidade. Os autores observaram que a performance dos modelos ARIMA diminui quando utilizados para prever períodos mais longos no futuro. \n",
        "\n",
        "Um outro trabalho, publicado por SANTOS, Gustavo Carvalho. \"Algoritmos de Machine Learning para Previsão de Ações da B3. 2020\". Dissertação de Mestrado em Engenharia Eletrica. Universidade Federal de Uberlândia, Uberlândia, MG, o estudo utiliza dados históricos de preços e indicadores financeiros de 33 ações da B3, no período de 2010 a 2019. Cinco algoritmos de Machine Learning foram utilizados: Regressão Linear, K-Nearest Neighbors (KNN), Random Forest, Support Vector Machines (SVM) e Redes Neurais Artificiais (RNA). O algoritmo de RNA apresentou o melhor desempenho geral, seguido pelos modelos de SVM, Random Forest, KNN e Regressão Linear.  Os modelos foram capazes de prever os retornos futuros das ações com razoável precisão, especialmente para períodos de curto prazo (30 dias). O estudo se concentra na previsão de retornos de ações da B3, mas os resultados podem ser aplicáveis a outros mercados de ações.\n",
        "\n",
        "Com base nos fundamentos fornecidos pelos trabalhos e livros referenciados, estamos confiantes de que temos uma sólida base teórica e prática para conduzir uma análise robusta e produzir resultados significativos. Ao aplicar técnicas analíticas avançadas e modelos estatísticos, e avaliar a eficácia dos modelos usando métricas relevantes, podemos obter uma compreensão mais profunda de como a taxa de inflação e a SELIC influenciam o mercado de ações brasileiro"
      ]
    },
    {
      "cell_type": "markdown",
      "metadata": {
        "id": "mLIXqlmC9gu_"
      },
      "source": [
        "# **Diagrama de Solução**\n",
        "\n",
        "Apresente e discuta um diagrama da solução proposta. **Atualizado nesta etapa.**"
      ]
    },
    {
      "cell_type": "markdown",
      "metadata": {
        "id": "iyc_Xux5Gc06"
      },
      "source": [
        "# **EDA e Pré-processamento dos dados**\n",
        "\n",
        "Exploração e análise inicial dos dados. Discussão e análise dos dados empregados (qualidade, limitações, simplicações ou recortes adotados etc.). Tarefas de preparação dos dados (transformações, compactação e encodes, junções de dados etc.)."
      ]
    },
    {
      "cell_type": "code",
      "execution_count": null,
      "metadata": {
        "id": "uOGDS0QgGjXs"
      },
      "outputs": [],
      "source": [
        "# incluir códigos aqui"
      ]
    },
    {
      "cell_type": "markdown",
      "metadata": {
        "id": "9x46aSj5Gt0i"
      },
      "source": [
        "# **Modelo base**\n",
        "\n",
        "Aplicação de ao menos um primeiro modelo base (modelo de aprendizado de máquina ou modelo estatístico) que deve ser refinado até a entrega final do projeto. Apresente o método aplicado e a análise dos  resultados obtidos."
      ]
    },
    {
      "cell_type": "code",
      "execution_count": null,
      "metadata": {
        "id": "jot0aN41G-d6"
      },
      "outputs": [],
      "source": [
        "# incluir códigos aqui"
      ]
    },
    {
      "cell_type": "markdown",
      "metadata": {
        "id": "P_HStQXL9qdY"
      },
      "source": [
        "# **Cronograma**\n",
        "\n",
        "Apresente um cronograma detalhado das entregas do seu projeto que contemple as datas de entrega das atividades. **Atualizado nesta etapa.**"
      ]
    },
    {
      "cell_type": "markdown",
      "metadata": {
        "id": "kZ9OW5ExtM8G"
      },
      "source": [
        "# **Referências**\n",
        "\n",
        "Complementadas a partir da entrega anterior.\n",
        "\n",
        "Seguir o padrção SBC ([Templates SBC](https://www.sbc.org.br/documentos-da-sbc/category/169-templates-para-artigos-e-capitulos-de-livros)).\n",
        "\n",
        "\n"
      ]
    },
    {
      "cell_type": "code",
      "execution_count": null,
      "metadata": {
        "cellView": "form",
        "id": "BluFtfHuCGzm"
      },
      "outputs": [],
      "source": [
        "#@title **Avaliação**\n",
        "EDA_e_preprocessamento = 10 #@param {type:\"slider\", min:0, max:10, step:1}\n",
        "\n",
        "Modelo_base = 9 #@param {type:\"slider\", min:0, max:10, step:1}\n",
        "\n",
        "Revisao = 8 #@param {type:\"slider\", min:0, max:10, step:1}\n",
        "\n",
        "Apresentacao_geral = 7 #@param {type:\"slider\", min:0, max:10, step:1}\n",
        "\n",
        "\n",
        "\n",
        "\n",
        "\n",
        "\n"
      ]
    },
    {
      "cell_type": "code",
      "execution_count": null,
      "metadata": {
        "colab": {
          "base_uri": "https://localhost:8080/",
          "height": 160
        },
        "id": "2Gqw7hUZHyle",
        "outputId": "2f21ff06-7f9f-42d0-fc35-13a094fe0956"
      },
      "outputs": [
        {
          "name": "stdout",
          "output_type": "stream",
          "text": [
            "Nota final do trabalho 8.8\n",
            "\n"
          ]
        },
        {
          "data": {
            "application/vnd.google.colaboratory.intrinsic+json": {
              "summary": "{\n  \"name\": \"alunos\",\n  \"rows\": 2,\n  \"fields\": [\n    {\n      \"column\": \"nome\",\n      \"properties\": {\n        \"dtype\": \"string\",\n        \"num_unique_values\": 2,\n        \"samples\": [\n          \"Daniel Henrique\",\n          \"Adriana Fujita\"\n        ],\n        \"semantic_type\": \"\",\n        \"description\": \"\"\n      }\n    },\n    {\n      \"column\": \"nota\",\n      \"properties\": {\n        \"dtype\": \"number\",\n        \"std\": 0.0,\n        \"min\": 8.8,\n        \"max\": 8.8,\n        \"num_unique_values\": 1,\n        \"samples\": [\n          8.8\n        ],\n        \"semantic_type\": \"\",\n        \"description\": \"\"\n      }\n    }\n  ]\n}",
              "type": "dataframe",
              "variable_name": "alunos"
            },
            "text/html": [
              "\n",
              "  <div id=\"df-fe754c03-2f66-4cb6-9442-c757fef91962\" class=\"colab-df-container\">\n",
              "    <div>\n",
              "<style scoped>\n",
              "    .dataframe tbody tr th:only-of-type {\n",
              "        vertical-align: middle;\n",
              "    }\n",
              "\n",
              "    .dataframe tbody tr th {\n",
              "        vertical-align: top;\n",
              "    }\n",
              "\n",
              "    .dataframe thead th {\n",
              "        text-align: right;\n",
              "    }\n",
              "</style>\n",
              "<table border=\"1\" class=\"dataframe\">\n",
              "  <thead>\n",
              "    <tr style=\"text-align: right;\">\n",
              "      <th></th>\n",
              "      <th>nome</th>\n",
              "      <th>nota</th>\n",
              "    </tr>\n",
              "  </thead>\n",
              "  <tbody>\n",
              "    <tr>\n",
              "      <th>0</th>\n",
              "      <td>Adriana Fujita</td>\n",
              "      <td>8.8</td>\n",
              "    </tr>\n",
              "    <tr>\n",
              "      <th>1</th>\n",
              "      <td>Daniel Henrique</td>\n",
              "      <td>8.8</td>\n",
              "    </tr>\n",
              "  </tbody>\n",
              "</table>\n",
              "</div>\n",
              "    <div class=\"colab-df-buttons\">\n",
              "\n",
              "  <div class=\"colab-df-container\">\n",
              "    <button class=\"colab-df-convert\" onclick=\"convertToInteractive('df-fe754c03-2f66-4cb6-9442-c757fef91962')\"\n",
              "            title=\"Convert this dataframe to an interactive table.\"\n",
              "            style=\"display:none;\">\n",
              "\n",
              "  <svg xmlns=\"http://www.w3.org/2000/svg\" height=\"24px\" viewBox=\"0 -960 960 960\">\n",
              "    <path d=\"M120-120v-720h720v720H120Zm60-500h600v-160H180v160Zm220 220h160v-160H400v160Zm0 220h160v-160H400v160ZM180-400h160v-160H180v160Zm440 0h160v-160H620v160ZM180-180h160v-160H180v160Zm440 0h160v-160H620v160Z\"/>\n",
              "  </svg>\n",
              "    </button>\n",
              "\n",
              "  <style>\n",
              "    .colab-df-container {\n",
              "      display:flex;\n",
              "      gap: 12px;\n",
              "    }\n",
              "\n",
              "    .colab-df-convert {\n",
              "      background-color: #E8F0FE;\n",
              "      border: none;\n",
              "      border-radius: 50%;\n",
              "      cursor: pointer;\n",
              "      display: none;\n",
              "      fill: #1967D2;\n",
              "      height: 32px;\n",
              "      padding: 0 0 0 0;\n",
              "      width: 32px;\n",
              "    }\n",
              "\n",
              "    .colab-df-convert:hover {\n",
              "      background-color: #E2EBFA;\n",
              "      box-shadow: 0px 1px 2px rgba(60, 64, 67, 0.3), 0px 1px 3px 1px rgba(60, 64, 67, 0.15);\n",
              "      fill: #174EA6;\n",
              "    }\n",
              "\n",
              "    .colab-df-buttons div {\n",
              "      margin-bottom: 4px;\n",
              "    }\n",
              "\n",
              "    [theme=dark] .colab-df-convert {\n",
              "      background-color: #3B4455;\n",
              "      fill: #D2E3FC;\n",
              "    }\n",
              "\n",
              "    [theme=dark] .colab-df-convert:hover {\n",
              "      background-color: #434B5C;\n",
              "      box-shadow: 0px 1px 3px 1px rgba(0, 0, 0, 0.15);\n",
              "      filter: drop-shadow(0px 1px 2px rgba(0, 0, 0, 0.3));\n",
              "      fill: #FFFFFF;\n",
              "    }\n",
              "  </style>\n",
              "\n",
              "    <script>\n",
              "      const buttonEl =\n",
              "        document.querySelector('#df-fe754c03-2f66-4cb6-9442-c757fef91962 button.colab-df-convert');\n",
              "      buttonEl.style.display =\n",
              "        google.colab.kernel.accessAllowed ? 'block' : 'none';\n",
              "\n",
              "      async function convertToInteractive(key) {\n",
              "        const element = document.querySelector('#df-fe754c03-2f66-4cb6-9442-c757fef91962');\n",
              "        const dataTable =\n",
              "          await google.colab.kernel.invokeFunction('convertToInteractive',\n",
              "                                                    [key], {});\n",
              "        if (!dataTable) return;\n",
              "\n",
              "        const docLinkHtml = 'Like what you see? Visit the ' +\n",
              "          '<a target=\"_blank\" href=https://colab.research.google.com/notebooks/data_table.ipynb>data table notebook</a>'\n",
              "          + ' to learn more about interactive tables.';\n",
              "        element.innerHTML = '';\n",
              "        dataTable['output_type'] = 'display_data';\n",
              "        await google.colab.output.renderOutput(dataTable, element);\n",
              "        const docLink = document.createElement('div');\n",
              "        docLink.innerHTML = docLinkHtml;\n",
              "        element.appendChild(docLink);\n",
              "      }\n",
              "    </script>\n",
              "  </div>\n",
              "\n",
              "\n",
              "<div id=\"df-ac0fcf3d-04c9-4981-9375-57199c7b3f79\">\n",
              "  <button class=\"colab-df-quickchart\" onclick=\"quickchart('df-ac0fcf3d-04c9-4981-9375-57199c7b3f79')\"\n",
              "            title=\"Suggest charts\"\n",
              "            style=\"display:none;\">\n",
              "\n",
              "<svg xmlns=\"http://www.w3.org/2000/svg\" height=\"24px\"viewBox=\"0 0 24 24\"\n",
              "     width=\"24px\">\n",
              "    <g>\n",
              "        <path d=\"M19 3H5c-1.1 0-2 .9-2 2v14c0 1.1.9 2 2 2h14c1.1 0 2-.9 2-2V5c0-1.1-.9-2-2-2zM9 17H7v-7h2v7zm4 0h-2V7h2v10zm4 0h-2v-4h2v4z\"/>\n",
              "    </g>\n",
              "</svg>\n",
              "  </button>\n",
              "\n",
              "<style>\n",
              "  .colab-df-quickchart {\n",
              "      --bg-color: #E8F0FE;\n",
              "      --fill-color: #1967D2;\n",
              "      --hover-bg-color: #E2EBFA;\n",
              "      --hover-fill-color: #174EA6;\n",
              "      --disabled-fill-color: #AAA;\n",
              "      --disabled-bg-color: #DDD;\n",
              "  }\n",
              "\n",
              "  [theme=dark] .colab-df-quickchart {\n",
              "      --bg-color: #3B4455;\n",
              "      --fill-color: #D2E3FC;\n",
              "      --hover-bg-color: #434B5C;\n",
              "      --hover-fill-color: #FFFFFF;\n",
              "      --disabled-bg-color: #3B4455;\n",
              "      --disabled-fill-color: #666;\n",
              "  }\n",
              "\n",
              "  .colab-df-quickchart {\n",
              "    background-color: var(--bg-color);\n",
              "    border: none;\n",
              "    border-radius: 50%;\n",
              "    cursor: pointer;\n",
              "    display: none;\n",
              "    fill: var(--fill-color);\n",
              "    height: 32px;\n",
              "    padding: 0;\n",
              "    width: 32px;\n",
              "  }\n",
              "\n",
              "  .colab-df-quickchart:hover {\n",
              "    background-color: var(--hover-bg-color);\n",
              "    box-shadow: 0 1px 2px rgba(60, 64, 67, 0.3), 0 1px 3px 1px rgba(60, 64, 67, 0.15);\n",
              "    fill: var(--button-hover-fill-color);\n",
              "  }\n",
              "\n",
              "  .colab-df-quickchart-complete:disabled,\n",
              "  .colab-df-quickchart-complete:disabled:hover {\n",
              "    background-color: var(--disabled-bg-color);\n",
              "    fill: var(--disabled-fill-color);\n",
              "    box-shadow: none;\n",
              "  }\n",
              "\n",
              "  .colab-df-spinner {\n",
              "    border: 2px solid var(--fill-color);\n",
              "    border-color: transparent;\n",
              "    border-bottom-color: var(--fill-color);\n",
              "    animation:\n",
              "      spin 1s steps(1) infinite;\n",
              "  }\n",
              "\n",
              "  @keyframes spin {\n",
              "    0% {\n",
              "      border-color: transparent;\n",
              "      border-bottom-color: var(--fill-color);\n",
              "      border-left-color: var(--fill-color);\n",
              "    }\n",
              "    20% {\n",
              "      border-color: transparent;\n",
              "      border-left-color: var(--fill-color);\n",
              "      border-top-color: var(--fill-color);\n",
              "    }\n",
              "    30% {\n",
              "      border-color: transparent;\n",
              "      border-left-color: var(--fill-color);\n",
              "      border-top-color: var(--fill-color);\n",
              "      border-right-color: var(--fill-color);\n",
              "    }\n",
              "    40% {\n",
              "      border-color: transparent;\n",
              "      border-right-color: var(--fill-color);\n",
              "      border-top-color: var(--fill-color);\n",
              "    }\n",
              "    60% {\n",
              "      border-color: transparent;\n",
              "      border-right-color: var(--fill-color);\n",
              "    }\n",
              "    80% {\n",
              "      border-color: transparent;\n",
              "      border-right-color: var(--fill-color);\n",
              "      border-bottom-color: var(--fill-color);\n",
              "    }\n",
              "    90% {\n",
              "      border-color: transparent;\n",
              "      border-bottom-color: var(--fill-color);\n",
              "    }\n",
              "  }\n",
              "</style>\n",
              "\n",
              "  <script>\n",
              "    async function quickchart(key) {\n",
              "      const quickchartButtonEl =\n",
              "        document.querySelector('#' + key + ' button');\n",
              "      quickchartButtonEl.disabled = true;  // To prevent multiple clicks.\n",
              "      quickchartButtonEl.classList.add('colab-df-spinner');\n",
              "      try {\n",
              "        const charts = await google.colab.kernel.invokeFunction(\n",
              "            'suggestCharts', [key], {});\n",
              "      } catch (error) {\n",
              "        console.error('Error during call to suggestCharts:', error);\n",
              "      }\n",
              "      quickchartButtonEl.classList.remove('colab-df-spinner');\n",
              "      quickchartButtonEl.classList.add('colab-df-quickchart-complete');\n",
              "    }\n",
              "    (() => {\n",
              "      let quickchartButtonEl =\n",
              "        document.querySelector('#df-ac0fcf3d-04c9-4981-9375-57199c7b3f79 button');\n",
              "      quickchartButtonEl.style.display =\n",
              "        google.colab.kernel.accessAllowed ? 'block' : 'none';\n",
              "    })();\n",
              "  </script>\n",
              "</div>\n",
              "\n",
              "  <div id=\"id_6280cf31-f6c1-428f-9150-fc23f92aa65d\">\n",
              "    <style>\n",
              "      .colab-df-generate {\n",
              "        background-color: #E8F0FE;\n",
              "        border: none;\n",
              "        border-radius: 50%;\n",
              "        cursor: pointer;\n",
              "        display: none;\n",
              "        fill: #1967D2;\n",
              "        height: 32px;\n",
              "        padding: 0 0 0 0;\n",
              "        width: 32px;\n",
              "      }\n",
              "\n",
              "      .colab-df-generate:hover {\n",
              "        background-color: #E2EBFA;\n",
              "        box-shadow: 0px 1px 2px rgba(60, 64, 67, 0.3), 0px 1px 3px 1px rgba(60, 64, 67, 0.15);\n",
              "        fill: #174EA6;\n",
              "      }\n",
              "\n",
              "      [theme=dark] .colab-df-generate {\n",
              "        background-color: #3B4455;\n",
              "        fill: #D2E3FC;\n",
              "      }\n",
              "\n",
              "      [theme=dark] .colab-df-generate:hover {\n",
              "        background-color: #434B5C;\n",
              "        box-shadow: 0px 1px 3px 1px rgba(0, 0, 0, 0.15);\n",
              "        filter: drop-shadow(0px 1px 2px rgba(0, 0, 0, 0.3));\n",
              "        fill: #FFFFFF;\n",
              "      }\n",
              "    </style>\n",
              "    <button class=\"colab-df-generate\" onclick=\"generateWithVariable('alunos')\"\n",
              "            title=\"Generate code using this dataframe.\"\n",
              "            style=\"display:none;\">\n",
              "\n",
              "  <svg xmlns=\"http://www.w3.org/2000/svg\" height=\"24px\"viewBox=\"0 0 24 24\"\n",
              "       width=\"24px\">\n",
              "    <path d=\"M7,19H8.4L18.45,9,17,7.55,7,17.6ZM5,21V16.75L18.45,3.32a2,2,0,0,1,2.83,0l1.4,1.43a1.91,1.91,0,0,1,.58,1.4,1.91,1.91,0,0,1-.58,1.4L9.25,21ZM18.45,9,17,7.55Zm-12,3A5.31,5.31,0,0,0,4.9,8.1,5.31,5.31,0,0,0,1,6.5,5.31,5.31,0,0,0,4.9,4.9,5.31,5.31,0,0,0,6.5,1,5.31,5.31,0,0,0,8.1,4.9,5.31,5.31,0,0,0,12,6.5,5.46,5.46,0,0,0,6.5,12Z\"/>\n",
              "  </svg>\n",
              "    </button>\n",
              "    <script>\n",
              "      (() => {\n",
              "      const buttonEl =\n",
              "        document.querySelector('#id_6280cf31-f6c1-428f-9150-fc23f92aa65d button.colab-df-generate');\n",
              "      buttonEl.style.display =\n",
              "        google.colab.kernel.accessAllowed ? 'block' : 'none';\n",
              "\n",
              "      buttonEl.onclick = () => {\n",
              "        google.colab.notebook.generateWithVariable('alunos');\n",
              "      }\n",
              "      })();\n",
              "    </script>\n",
              "  </div>\n",
              "\n",
              "    </div>\n",
              "  </div>\n"
            ],
            "text/plain": [
              "              nome  nota\n",
              "0   Adriana Fujita   8.8\n",
              "1  Daniel Henrique   8.8"
            ]
          },
          "metadata": {},
          "output_type": "display_data"
        }
      ],
      "source": [
        "#@title **Nota Final**\n",
        "nota = 0.4*EDA_e_preprocessamento + 0.2*Modelo_base + 0.2*Revisao + 0.2*Apresentacao_geral\n",
        "\n",
        "print(f'Nota final do trabalho {nota :.1f}')\n",
        "\n",
        "import numpy as np\n",
        "import pandas as pd\n",
        "\n",
        "alunos = pd.DataFrame()\n",
        "\n",
        "lista_nome = []\n",
        "\n",
        "for i in range(1,6):\n",
        "  exec(\"if Aluno\" + str(i) + \" !='None':  lista = Aluno\" + str(i) + \".split(','); lista_nome.append(lista[0]);\")\n",
        "\n",
        "alunos['nome'] = lista_nome\n",
        "alunos['nota'] = np.round(nota,1)\n",
        "print()\n",
        "display(alunos)"
      ]
    }
  ],
  "metadata": {
    "colab": {
      "provenance": []
    },
    "kernelspec": {
      "display_name": "Python 3",
      "language": "python",
      "name": "python3"
    },
    "language_info": {
      "codemirror_mode": {
        "name": "ipython",
        "version": 3
      },
      "file_extension": ".py",
      "mimetype": "text/x-python",
      "name": "python",
      "nbconvert_exporter": "python",
      "pygments_lexer": "ipython3",
      "version": "3.7.4"
    }
  },
  "nbformat": 4,
  "nbformat_minor": 0
}
